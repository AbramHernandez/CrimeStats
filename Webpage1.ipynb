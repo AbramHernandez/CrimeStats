{
 "cells": [
  {
   "cell_type": "markdown",
   "metadata": {},
   "source": [
    "# Geographic Distribution of Hate Crimes in California (2012–2022)\n",
    "\n",
    "### Introduction\n",
    "This page explores the geographic distribution of hate crimes across California's counties from 2012 to 2022. An interactive map allows users to visualize the hate crime counts for each county by selecting a specific year.\n",
    "\n",
    "Hate crime data includes incidents motivated by race, ethnicity, religion, sexual orientation, gender, and other factors. The visualizations aim to highlight regional disparities and trends over time."
   ]
  },
  {
   "cell_type": "markdown",
   "metadata": {},
   "source": [
    "### Loading Geographic Data\n",
    "\n",
    "This section loads California county boundaries from the `CA_Counties.shp` shapefile using `geopandas`. The shapefile contains geographic features (county shapes) and attribute data (e.g., county names), which are stored in a GeoDataFrame (`gdf`) for mapping and spatial analysis.\n"
   ]
  },
  {
   "cell_type": "code",
   "execution_count": 4,
   "metadata": {},
   "outputs": [],
   "source": [
    "import geopandas as gpd\n",
    "\n",
    "# Specify the path to the .shp file\n",
    "shapefile_path = \"C:/Users/Ilike/CSCI385/Final_Project/ca_counties/CA_Counties.shp\"\n",
    "\n",
    "# Load the shapefile into a Geopandas DataFrame\n",
    "gdf = gpd.read_file(shapefile_path)"
   ]
  },
  {
   "cell_type": "markdown",
   "metadata": {},
   "source": [
    "### Processing Hate Crime Data for Geographic Analysis\n",
    "\n",
    "This function processes hate crime data for a specific year to prepare it for geographic visualization. It ensures that all counties are represented, even if they report zero hate crimes for the given year.\n",
    "\n",
    "#### Steps Explained:\n",
    "1. **Load the Datasets**:\n",
    "   - `Hate Crime 2012 - 2022.csv`: Contains hate crime incidents across California.\n",
    "   - `NCIC Code Jurisdiction List.csv`: Maps numeric county codes to county names.\n",
    "\n",
    "2. **Filter for Specific Bias Type**:\n",
    "   - Select hate crimes motivated by \"Race/Ethnicity/Ancestry\" from the dataset.\n",
    "\n",
    "3. **Merge Datasets**:\n",
    "   - Combine the hate crime data with the NCIC jurisdiction data using the numeric `County` code.\n",
    "\n",
    "4. **Group and Aggregate Data**:\n",
    "   - Group the merged data by county and year (`ClosedYear`) to count the total number of hate crimes per county.\n",
    "\n",
    "5. **Filter by Year**:\n",
    "   - Extract data for the specified year to focus on a single time slice.\n",
    "\n",
    "6. **Ensure All Counties are Represented**:\n",
    "   - Merge the yearly data with the complete list of counties from the NCIC data to include counties with zero hate crimes for the year.\n",
    "\n",
    "7. **Handle Missing Values**:\n",
    "   - Replace `NaN` values in the hate crime count with `0`.\n",
    "   - Fill missing years with the specified year to standardize the dataset.\n",
    "\n",
    "8. **Convert Data Types**:\n",
    "   - Convert `HateCrimeCount` and `ClosedYear` columns to integers for consistency.\n",
    "\n",
    "9. **Reset Index**:\n",
    "   - Reset the index for a clean, tabular output.\n",
    "\n",
    "10. **View the Result**:\n",
    "   - Print the resulting dataset for verification.\n",
    "\n",
    "#### Example Usage:\n",
    "- The function is called for the year 2013:\n",
    "  ```python\n",
    "  process_hate_crime_data(2013)\n"
   ]
  },
  {
   "cell_type": "code",
   "execution_count": 5,
   "metadata": {},
   "outputs": [
    {
     "name": "stdout",
     "output_type": "stream",
     "text": [
      "    CntyCode                  County  ClosedYear  HateCrimeCount\n",
      "0          1          Alameda County        2013              36\n",
      "1          2           Alpine County        2013               1\n",
      "2          3           Amador County        2013               0\n",
      "3          4            Butte County        2013               3\n",
      "4          5        Calaveras County        2013               1\n",
      "5          6           Colusa County        2013               0\n",
      "6          7     Contra Costa County        2013              16\n",
      "7          8        Del Norte County        2013               0\n",
      "8          9        El Dorado County        2013               1\n",
      "9         10           Fresno County        2013               7\n",
      "10        11            Glenn County        2013               0\n",
      "11        12         Humboldt County        2013               1\n",
      "12        13         Imperial County        2013               0\n",
      "13        14             Inyo County        2013               0\n",
      "14        15             Kern County        2013               8\n",
      "15        16            Kings County        2013               3\n",
      "16        17             Lake County        2013               3\n",
      "17        18           Lassen County        2013               0\n",
      "18        19      Los Angeles County        2013             158\n",
      "19        20           Madera County        2013               0\n",
      "20        21            Marin County        2013               0\n",
      "21        22         Mariposa County        2013               0\n",
      "22        23        Mendocino County        2013               0\n",
      "23        24           Merced County        2013               1\n",
      "24        25            Modoc County        2013               0\n",
      "25        26             Mono County        2013               0\n",
      "26        27         Monterey County        2013               2\n",
      "27        28             Napa County        2013               0\n",
      "28        29           Nevada County        2013               0\n",
      "29        30           Orange County        2013              17\n",
      "30        31           Placer County        2013               1\n",
      "31        32           Plumas County        2013               1\n",
      "32        33        Riverside County        2013              29\n",
      "33        34       Sacramento County        2013              21\n",
      "34        35       San Benito County        2013               0\n",
      "35        36   San Bernardino County        2013              32\n",
      "36        37        San Diego County        2013              60\n",
      "37        38    San Francisco County        2013               9\n",
      "38        39      San Joaquin County        2013               9\n",
      "39        40  San Luis Obispo County        2013               6\n",
      "40        41        San Mateo County        2013               1\n",
      "41        42    Santa Barbara County        2013               3\n",
      "42        43      Santa Clara County        2013              18\n",
      "43        44       Santa Cruz County        2013               3\n",
      "44        45           Shasta County        2013              11\n",
      "45        46           Sierra County        2013               0\n",
      "46        47         Siskiyou County        2013               0\n",
      "47        48           Solano County        2013               5\n",
      "48        49           Sonoma County        2013               5\n",
      "49        50       Stanislaus County        2013               2\n",
      "50        51           Sutter County        2013               1\n",
      "51        52           Tehama County        2013               2\n",
      "52        53          Trinity County        2013               0\n",
      "53        54           Tulare County        2013               1\n",
      "54        55         Tuolumne County        2013               1\n",
      "55        56          Ventura County        2013               5\n",
      "56        57             Yolo County        2013               5\n",
      "57        58             Yuba County        2013               1\n"
     ]
    }
   ],
   "source": [
    "import pandas as pd\n",
    "\n",
    "def process_hate_crime_data(year):\n",
    "    # Load the datasets\n",
    "    hate_crime_data = pd.read_csv('Hate Crime 2012 - 2022.csv')\n",
    "    ncic_data = pd.read_csv('NCIC Code Jurisdiction List.csv')\n",
    "\n",
    "    # Step 1: Filter the data for 'Race/Ethnicity/Ancestry' bias type\n",
    "    race_ethnicity_ancestry_data = hate_crime_data[hate_crime_data['MostSeriousBiasType'] == 'Race/Ethnicity/Ancestry']\n",
    "\n",
    "    # Step 2: Merge the datasets based on the numeric County code and CntyCode\n",
    "    merged_data = pd.merge(race_ethnicity_ancestry_data, ncic_data, left_on='County', right_on='CntyCode', how='left')\n",
    "\n",
    "    # Step 3: Group the merged data by 'County' and 'ClosedYear', and count the occurrences (hate crimes)\n",
    "    county_yearly_hate_crimes = merged_data.groupby(['County_y', 'ClosedYear']).agg({'RecordId': 'count'}).reset_index()\n",
    "\n",
    "    # Step 4: Rename columns for clarity\n",
    "    county_yearly_hate_crimes.rename(columns={'RecordId': 'HateCrimeCount', 'County_y': 'County'}, inplace=True)\n",
    "\n",
    "    # Step 5: Filter data for the specified year\n",
    "    hate_crimes_year = county_yearly_hate_crimes[county_yearly_hate_crimes['ClosedYear'] == year]\n",
    "\n",
    "    # Step 6: Merge with NCIC data to ensure all counties are included, even those without data\n",
    "    all_counties_year = pd.merge(ncic_data, hate_crimes_year, how='left', left_on='County', right_on='County')\n",
    "\n",
    "    # Step 7: Replace NaN values in HateCrimeCount with 0 for counties with no data and set ClosedYear to the selected year\n",
    "    all_counties_year['HateCrimeCount'] = all_counties_year['HateCrimeCount'].fillna(0)\n",
    "    all_counties_year['ClosedYear'] = all_counties_year['ClosedYear'].fillna(year)\n",
    "\n",
    "    # Step 8: Convert HateCrimeCount and ClosedYear to integers (removes decimals)\n",
    "    all_counties_year['HateCrimeCount'] = all_counties_year['HateCrimeCount'].astype(int)\n",
    "    all_counties_year['ClosedYear'] = all_counties_year['ClosedYear'].astype(int)\n",
    "\n",
    "    # Step 9: Reset index for clarity\n",
    "    all_counties_year = all_counties_year.reset_index(drop=True)\n",
    "\n",
    "    # Step 10: View the resulting data\n",
    "    print(all_counties_year)\n",
    "\n",
    "# Example: Run for the year 2013\n",
    "process_hate_crime_data(2013)\n"
   ]
  },
  {
   "cell_type": "markdown",
   "metadata": {},
   "source": [
    "### Visualizing Hate Crimes Across California Counties\n",
    "\n",
    "This section creates an interactive map to visualize hate crimes in California by county for each year from 2012 to 2022.\n",
    "\n",
    "#### **Steps:**\n",
    "1. **Load Data**:\n",
    "   - Hate crime data (`Hate Crime 2012 - 2022.csv`), jurisdiction mapping (`NCIC Code Jurisdiction List.csv`), and California county shapefile (`CA_Counties.shp`).\n",
    "\n",
    "2. **Preprocess Data**:\n",
    "   - Filter for crimes based on **Race/Ethnicity/Ancestry**.\n",
    "   - Merge hate crime data with county information.\n",
    "   - Group by county and year to calculate total hate crimes.\n",
    "\n",
    "3. **Interactive Map**:\n",
    "   - The `visualize_hate_crime_year(year)` function generates a map showing hate crimes by county for the selected year:\n",
    "     - Counties are color-coded (darker = more crimes).\n",
    "     - A slider lets users choose the year (2012–2022).\n",
    "     - The map updates dynamically based on the selection.\n"
   ]
  },
  {
   "cell_type": "code",
   "execution_count": 2,
   "metadata": {},
   "outputs": [
    {
     "data": {
      "application/vnd.jupyter.widget-view+json": {
       "model_id": "672fcc659e8e4d1c84e5e2ce5b3628d4",
       "version_major": 2,
       "version_minor": 0
      },
      "text/plain": [
       "interactive(children=(IntSlider(value=2017, description='year', max=2022, min=2012), Output()), _dom_classes=(…"
      ]
     },
     "metadata": {},
     "output_type": "display_data"
    },
    {
     "data": {
      "text/plain": [
       "<function __main__.visualize_hate_crime_year(year)>"
      ]
     },
     "execution_count": 2,
     "metadata": {},
     "output_type": "execute_result"
    }
   ],
   "source": [
    "import pandas as pd\n",
    "import geopandas as gpd\n",
    "import matplotlib.pyplot as plt\n",
    "from ipywidgets import interact\n",
    "\n",
    "# Load and process the data once\n",
    "hate_crime_data = pd.read_csv('Hate Crime 2012 - 2022.csv')\n",
    "ncic_data = pd.read_csv('NCIC Code Jurisdiction List.csv')\n",
    "shapefile_path = r'C:\\Users\\Ilike\\CSCI385\\Final_Project\\ca_counties\\CA_Counties.shp'\n",
    "ca_counties = gpd.read_file(shapefile_path)\n",
    "\n",
    "# Preprocess data\n",
    "race_ethnicity_ancestry_data = hate_crime_data[hate_crime_data['MostSeriousBiasType'] == 'Race/Ethnicity/Ancestry']\n",
    "merged_data = pd.merge(race_ethnicity_ancestry_data, ncic_data, left_on='County', right_on='CntyCode', how='left')\n",
    "county_yearly_hate_crimes = merged_data.groupby(['County_y', 'ClosedYear']).agg({'RecordId': 'count'}).reset_index()\n",
    "county_yearly_hate_crimes.rename(columns={'RecordId': 'HateCrimeCount', 'County_y': 'County'}, inplace=True)\n",
    "\n",
    "def visualize_hate_crime_year(year):\n",
    "    # Filter data for the selected year\n",
    "    hate_crimes_year = county_yearly_hate_crimes[county_yearly_hate_crimes['ClosedYear'] == year]\n",
    "    all_counties_year = pd.merge(ncic_data, hate_crimes_year, how='left', left_on='County', right_on='County')\n",
    "    all_counties_year['HateCrimeCount'] = all_counties_year['HateCrimeCount'].fillna(0).astype(int)\n",
    "\n",
    "    # Merge with shapefile data\n",
    "    merged_geo = ca_counties.merge(all_counties_year, left_on='NAMELSAD', right_on='County', how='left')\n",
    "    merged_geo['HateCrimeCount'] = merged_geo['HateCrimeCount'].fillna(0).astype(int)\n",
    "\n",
    "    # Plot the data\n",
    "    fig, ax = plt.subplots(1, 1, figsize=(12, 8))\n",
    "    merged_geo.plot(column='HateCrimeCount',\n",
    "                    cmap='OrRd',\n",
    "                    linewidth=0.8,\n",
    "                    ax=ax,\n",
    "                    edgecolor='0.8',\n",
    "                    legend=True)\n",
    "    ax.set_title(f'Hate Crime Count by County in California ({year})', fontsize=16)\n",
    "    ax.axis('off')\n",
    "\n",
    "    # Explicitly display the figure\n",
    "    plt.show()\n",
    "\n",
    "    # Clear the figure to prevent implicit display\n",
    "    plt.close(fig)\n",
    "\n",
    "# Interactive slider\n",
    "interact(visualize_hate_crime_year, year=(2012, 2022))\n"
   ]
  },
  {
   "cell_type": "markdown",
   "metadata": {},
   "source": [
    "![Interactive Hate Crime Map](HateCrime_Interactive.gif)"
   ]
  }
 ],
 "metadata": {
  "kernelspec": {
   "display_name": "Python 3",
   "language": "python",
   "name": "python3"
  },
  "language_info": {
   "codemirror_mode": {
    "name": "ipython",
    "version": 3
   },
   "file_extension": ".py",
   "mimetype": "text/x-python",
   "name": "python",
   "nbconvert_exporter": "python",
   "pygments_lexer": "ipython3",
   "version": "3.13.1"
  }
 },
 "nbformat": 4,
 "nbformat_minor": 2
}
