{
 "cells": [
  {
   "cell_type": "markdown",
   "metadata": {},
   "source": [
    "# Geographic Distribution of Hate Crimes in California (2012–2022)\n",
    "\n",
    "### Introduction\n",
    "This page explores the geographic distribution of hate crimes across California's counties from 2012 to 2022. An interactive map allows users to visualize the hate crime counts for each county by selecting a specific year.\n",
    "\n",
    "Hate crime data includes incidents motivated by race, ethnicity, religion, sexual orientation, gender, and other factors. The visualizations aim to highlight regional disparities and trends over time."
   ]
  },
  {
   "cell_type": "markdown",
   "metadata": {},
   "source": [
    "### Loading Geographic Data\n",
    "\n",
    "This section loads California county boundaries from the `CA_Counties.shp` shapefile using `geopandas`. The shapefile contains geographic features (county shapes) and attribute data (e.g., county names), which are stored in a GeoDataFrame (`gdf`) for mapping and spatial analysis.\n"
   ]
  },
  {
   "cell_type": "code",
   "execution_count": 4,
   "metadata": {},
   "outputs": [],
   "source": [
    "import geopandas as gpd\n",
    "\n",
    "# Specify the path to the .shp file\n",
    "shapefile_path = \"C:/Users/Ilike/CSCI385/Final_Project/ca_counties/CA_Counties.shp\"\n",
    "\n",
    "# Load the shapefile into a Geopandas DataFrame\n",
    "gdf = gpd.read_file(shapefile_path)"
   ]
  },
  {
   "cell_type": "markdown",
   "metadata": {},
   "source": [
    "### Visualizing Hate Crimes Across California Counties\n",
    "\n",
    "This section creates an interactive map to visualize hate crimes in California by county for each year from 2012 to 2022."
   ]
  },
  {
   "cell_type": "markdown",
   "metadata": {},
   "source": [
    "### Data Processing\n",
    "This section processes the hate crime data to calculate yearly hate crime counts for three categories:\n",
    "1. Racist Hate Crimes\n",
    "2. LGBTQ Hate Crimes\n",
    "3. Religion-Based Hate Crimes\n",
    "\n",
    "The processing includes:\n",
    "- Filtering data by bias type (e.g., Race/Ethnicity, Sexual Orientation).\n",
    "- Merging with NCIC jurisdiction data to associate county names.\n",
    "- Aggregating the hate crime counts for each county and year.\n",
    "- Combining the results into a single dataset with columns:\n",
    "  - `RacistHateCrimeCount`\n",
    "  - `LGBTQHateCrimeCount`\n",
    "  - `ReligiousHateCrimeCount`\n",
    "\n",
    "This processed dataset will be used for visualizing hate crime trends."
   ]
  },
  {
   "cell_type": "code",
   "execution_count": 13,
   "metadata": {},
   "outputs": [],
   "source": [
    "import pandas as pd\n",
    "\n",
    "def preprocess_all_data(year):\n",
    "    # Define bias types and their respective column names\n",
    "    bias_types = {\n",
    "        'Race/Ethnicity/Ancestry': 'RacistHateCrimeCount',\n",
    "        'Sexual Orientation': 'LGBTQHateCrimeCount',\n",
    "        'Religion': 'ReligiousHateCrimeCount'\n",
    "    }\n",
    "\n",
    "    # Load datasets\n",
    "    hate_crime_data = pd.read_csv('Hate Crime 2012 - 2022.csv')\n",
    "    ncic_data = pd.read_csv('NCIC Code Jurisdiction List.csv')\n",
    "\n",
    "    # Initialize an empty DataFrame for the final result\n",
    "    final_data = pd.DataFrame()\n",
    "\n",
    "    for bias_type, column_name in bias_types.items():\n",
    "        # Filter data for the current bias type\n",
    "        filtered_data = hate_crime_data[hate_crime_data['MostSeriousBiasType'] == bias_type]\n",
    "\n",
    "        # Merge with NCIC data\n",
    "        merged_data = pd.merge(filtered_data, ncic_data, left_on='County', right_on='CntyCode', how='left')\n",
    "\n",
    "        # Group by County and Year and count occurrences\n",
    "        county_yearly_hate_crimes = merged_data.groupby(['County_y', 'ClosedYear']).agg({'RecordId': 'count'}).reset_index()\n",
    "\n",
    "        # Rename columns for clarity\n",
    "        county_yearly_hate_crimes.rename(columns={'RecordId': column_name, 'County_y': 'County'}, inplace=True)\n",
    "\n",
    "        # Filter data for the specified year\n",
    "        hate_crimes_year = county_yearly_hate_crimes[county_yearly_hate_crimes['ClosedYear'] == year]\n",
    "\n",
    "        # Merge with NCIC data to ensure all counties are included\n",
    "        all_counties_year = pd.merge(ncic_data, hate_crimes_year, how='left', left_on='County', right_on='County')\n",
    "\n",
    "        # Replace NaN values in the count column with 0\n",
    "        all_counties_year[column_name] = all_counties_year[column_name].fillna(0).astype(int)\n",
    "\n",
    "        # Keep only relevant columns\n",
    "        all_counties_year = all_counties_year[['County', column_name]]\n",
    "\n",
    "        # Merge the current bias type data with the final dataset\n",
    "        if final_data.empty:\n",
    "            final_data = all_counties_year\n",
    "        else:\n",
    "            final_data = pd.merge(final_data, all_counties_year, on='County', how='outer')\n",
    "\n",
    "    # Add the year column\n",
    "    final_data['Year'] = year\n",
    "\n",
    "    # Reset index for clarity\n",
    "    final_data = final_data.reset_index(drop=True)\n",
    "    return final_data"
   ]
  },
  {
   "cell_type": "markdown",
   "metadata": {},
   "source": [
    "### Processed Data for 2013\n",
    "This step processes hate crime data for 2013 using `preprocess_all_data`, calculating counts for:\n",
    "- **Racist Hate Crimes**\n",
    "- **LGBTQ Hate Crimes**\n",
    "- **Religion-Based Hate Crimes**\n",
    "\n",
    "The output shows the first 10 rows, with columns for each bias type and the year."
   ]
  },
  {
   "cell_type": "code",
   "execution_count": 22,
   "metadata": {},
   "outputs": [
    {
     "name": "stdout",
     "output_type": "stream",
     "text": [
      "             County  RacistHateCrimeCount  LGBTQHateCrimeCount  \\\n",
      "0    Alameda County                    68                   28   \n",
      "1     Alpine County                     0                    0   \n",
      "2     Amador County                     0                    1   \n",
      "3      Butte County                     4                    4   \n",
      "4  Calaveras County                     0                    0   \n",
      "\n",
      "   ReligiousHateCrimeCount  Year  \n",
      "0                       11  2022  \n",
      "1                        0  2022  \n",
      "2                        0  2022  \n",
      "3                        2  2022  \n",
      "4                        0  2022  \n"
     ]
    }
   ],
   "source": [
    "# Example: Process data for the year 2022\n",
    "processed_data = preprocess_all_data(2022)\n",
    "\n",
    "# Display processed data\n",
    "print(processed_data.head(5))"
   ]
  },
  {
   "cell_type": "markdown",
   "metadata": {},
   "source": [
    "### Visualization\n",
    "This section visualizes the processed hate crime data on a map of California. \n",
    "The user can select:\n",
    "- **Bias Type**: Racist, LGBTQ, or Religion-based hate crimes.\n",
    "- **Year**: A specific year from 2012 to 2022.\n",
    "\n",
    "The interactive map dynamically updates to show the selected data, with counties shaded based on hate crime counts."
   ]
  },
  {
   "cell_type": "code",
   "execution_count": 24,
   "metadata": {},
   "outputs": [],
   "source": [
    "import geopandas as gpd\n",
    "import matplotlib.pyplot as plt\n",
    "from ipywidgets import interact, widgets\n",
    "\n",
    "# Load shapefile\n",
    "shapefile_path = r'C:\\Users\\Ilike\\CSCI385\\Final_Project\\ca_counties\\CA_Counties.shp'\n",
    "ca_counties = gpd.read_file(shapefile_path)\n",
    "\n",
    "# Visualization function\n",
    "def visualize_hate_crime_by_bias(bias, year):\n",
    "    # Process data for the selected year\n",
    "    all_data = preprocess_all_data(year)\n",
    "\n",
    "    # Select the column to plot based on bias type\n",
    "    column_map = {\n",
    "        \"Racist Hate Crimes\": \"RacistHateCrimeCount\",\n",
    "        \"LGBTQ Hate Crimes\": \"LGBTQHateCrimeCount\",\n",
    "        \"Religion-Based Hate Crimes\": \"ReligiousHateCrimeCount\"\n",
    "    }\n",
    "    column_to_plot = column_map[bias]\n",
    "\n",
    "    # Merge with shapefile data\n",
    "    merged_geo = ca_counties.merge(all_data, left_on='NAMELSAD', right_on='County', how='left')\n",
    "    merged_geo[column_to_plot] = merged_geo[column_to_plot].fillna(0).astype(int)\n",
    "\n",
    "    # Plot the data\n",
    "    fig, ax = plt.subplots(1, 1, figsize=(12, 8))\n",
    "    merged_geo.plot(column=column_to_plot,\n",
    "                    cmap='OrRd',\n",
    "                    linewidth=0.8,\n",
    "                    ax=ax,\n",
    "                    edgecolor='0.8',\n",
    "                    legend=True)\n",
    "    ax.set_title(f'{bias} by County in California ({year})', fontsize=16)\n",
    "    ax.axis('off')\n",
    "    plt.show()\n",
    "\n",
    "# Interactive widgets\n",
    "bias_dropdown = widgets.Dropdown(\n",
    "    options=[\"Racist Hate Crimes\", \"LGBTQ Hate Crimes\", \"Religion-Based Hate Crimes\"],\n",
    "    value=\"Racist Hate Crimes\",\n",
    "    description=\"Bias Type:\"\n",
    ")\n",
    "\n",
    "# Interact with visualization\n",
    "#interact(visualize_hate_crime_by_bias, bias=bias_dropdown, year=(2012, 2022))\n"
   ]
  },
  {
   "cell_type": "markdown",
   "metadata": {},
   "source": [
    "![Interactive Histogram](HateCrime_Interactive_long.gif)"
   ]
  }
 ],
 "metadata": {
  "kernelspec": {
   "display_name": "Python 3",
   "language": "python",
   "name": "python3"
  },
  "language_info": {
   "codemirror_mode": {
    "name": "ipython",
    "version": 3
   },
   "file_extension": ".py",
   "mimetype": "text/x-python",
   "name": "python",
   "nbconvert_exporter": "python",
   "pygments_lexer": "ipython3",
   "version": "3.13.1"
  }
 },
 "nbformat": 4,
 "nbformat_minor": 2
}
