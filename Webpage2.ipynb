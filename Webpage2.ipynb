{
 "cells": [
  {
   "cell_type": "markdown",
   "metadata": {},
   "source": [
    "# Hate Crime Trends by Category (2012–2022)\n",
    "\n",
    "### Introduction\n",
    "This page allows users to explore the distribution of hate crimes in California from 2012 to 2022, categorized by:\n",
    "1. **Race/Ethnicity/Ancestry**\n",
    "2. **LGBTQ Community**\n",
    "3. **Religion**\n",
    "\n",
    "An interactive dropdown lets users switch between these categories to view corresponding histograms.\n",
    "\n",
    "---\n",
    "\n",
    "### Features\n",
    "\n",
    "#### **Interactive Dropdown**\n",
    "- Use the dropdown menu to select a category and dynamically generate the histogram.\n",
    "- Categories include:\n",
    "  - **Race/Ethnicity/Ancestry** (light blue bars)\n",
    "  - **LGBTQ Community** (pink bars)\n",
    "  - **Religion** (deep orange bars)\n",
    "\n",
    "#### **Histograms**\n",
    "Each histogram shows:\n",
    "- The **number of hate crimes** reported annually for the selected category.\n",
    "- A clear visual distribution across the years 2012–2022.\n",
    "\n",
    "---\n",
    "\n",
    "### Explanation of Code\n",
    "\n",
    "#### **1. Data Loading**\n",
    "- The hate crime data is loaded from `Hate Crime 2012 - 2022.csv`.\n",
    "\n",
    "#### **2. Plotting Function**\n",
    "- `create_histogram`: Generates a histogram for the selected category with:\n",
    "  - Customizable color schemes for each category.\n",
    "  - Yearly counts on the x-axis and the number of crimes on the y-axis.\n",
    "\n",
    "#### **3. Interactive Component**\n",
    "- The dropdown widget (`widgets.Dropdown`) allows users to select a category dynamically.\n",
    "- The `display_histogram` function updates the histogram based on the dropdown selection.\n",
    "\n",
    "---\n"
   ]
  },
  {
   "cell_type": "code",
   "execution_count": 1,
   "metadata": {},
   "outputs": [
    {
     "data": {
      "application/vnd.jupyter.widget-view+json": {
       "model_id": "436a5e70f4b7451f8c16ed7f1f60005f",
       "version_major": 2,
       "version_minor": 0
      },
      "text/plain": [
       "interactive(children=(Dropdown(description='Category:', options=('Race/Ethnicity/Ancestry', 'LGBTQ', 'Religion…"
      ]
     },
     "metadata": {},
     "output_type": "display_data"
    },
    {
     "data": {
      "text/plain": [
       "<function __main__.display_histogram(histogram_type)>"
      ]
     },
     "execution_count": 1,
     "metadata": {},
     "output_type": "execute_result"
    }
   ],
   "source": [
    "import pandas as pd\n",
    "import plotnine as pn\n",
    "from ipywidgets import interact, widgets\n",
    "from IPython.display import display\n",
    "\n",
    "# Load the dataset\n",
    "file_path = r\"C:\\Users\\Ilike\\CSCI385\\Final_Project\\Hate Crime 2012 - 2022.csv\"\n",
    "data = pd.read_csv(file_path)\n",
    "\n",
    "# Define plotting function\n",
    "def create_histogram(category, title, color_scheme):\n",
    "    filtered_data = data[data['MostSeriousBiasType'] == category]\n",
    "    plot = (\n",
    "        pn.ggplot(filtered_data)\n",
    "        + pn.aes(x='ClosedYear')\n",
    "        + pn.geom_bar(stat='count', width=0.8, fill=color_scheme if isinstance(color_scheme, str) else None)\n",
    "        + pn.labs(\n",
    "            title=title,\n",
    "            x='Year',\n",
    "            y='Number of Hate Crimes'\n",
    "        )\n",
    "        + pn.theme_bw()\n",
    "        + pn.scale_x_continuous(\n",
    "            breaks=list(range(2012, 2023)),\n",
    "            labels=[str(year) for year in range(2012, 2023)],\n",
    "            expand=(0, 0)\n",
    "        )\n",
    "        + (pn.scale_fill_manual(values=color_scheme) if isinstance(color_scheme, list) else None)\n",
    "        + pn.theme(\n",
    "            figure_size=(12, 6),\n",
    "            plot_title=pn.element_text(size=16, ha='center', weight='bold'),\n",
    "            axis_title=pn.element_text(size=14),\n",
    "            axis_text=pn.element_text(size=12),\n",
    "            panel_grid_major=pn.element_line(color='gray', size=0.2),\n",
    "            panel_grid_minor=pn.element_line(color='gray', size=0.1),\n",
    "            panel_border=pn.element_rect(color='black', size=1),\n",
    "            legend_position='none'\n",
    "        )\n",
    "    )\n",
    "    return plot\n",
    "\n",
    "# Function to display the selected histogram\n",
    "def display_histogram(histogram_type):\n",
    "    if histogram_type == \"Race/Ethnicity/Ancestry\":\n",
    "        display(create_histogram(\n",
    "            \"Race/Ethnicity/Ancestry\",\n",
    "            \"Distribution of Hate Crimes Based on Race/Ethnicity/Ancestry Over Time (2012-2022)\",\n",
    "            \"#add8e6\"  # Light blue\n",
    "        ))\n",
    "    elif histogram_type == \"LGBTQ\":\n",
    "        display(create_histogram(\n",
    "            \"Sexual Orientation\",\n",
    "            \"Distribution of Hate Crimes Against LGBTQ Community Over Time (2012-2022)\",\n",
    "            \"#F2BAC9\" # Pink\n",
    "        ))\n",
    "    elif histogram_type == \"Religion\":\n",
    "        display(create_histogram(\n",
    "            \"Religion\",\n",
    "            \"Distribution of Hate Crimes Based on Religion Over Time (2012-2022)\",\n",
    "            \"#DC602E\"  # Deep orange\n",
    "        ))\n",
    "\n",
    "# Dropdown widget\n",
    "dropdown = widgets.Dropdown(\n",
    "    options=[\"Race/Ethnicity/Ancestry\", \"LGBTQ\", \"Religion\"],\n",
    "    value=\"Race/Ethnicity/Ancestry\",\n",
    "    description=\"Category:\",\n",
    "    style={'description_width': 'initial'}\n",
    ")\n",
    "\n",
    "# Interact with the dropdown\n",
    "interact(display_histogram, histogram_type=dropdown)"
   ]
  },
  {
   "cell_type": "markdown",
   "metadata": {},
   "source": [
    "![Interactive Histogram](Histogram_Interactive.gif)"
   ]
  },
  {
   "cell_type": "markdown",
   "metadata": {},
   "source": [
    "### Insights\n",
    "- This interactive visualization highlights trends over time for each category:\n",
    "  - **Race/Ethnicity/Ancestry**: Most frequent hate crime category.\n",
    "  - **LGBTQ Community**: Significant fluctuations, reflecting societal and cultural changes.\n",
    "  - **Religion**: Displays variability, with certain years reporting higher incidents.\n",
    "\n",
    "---"
   ]
  }
 ],
 "metadata": {
  "kernelspec": {
   "display_name": "Python 3",
   "language": "python",
   "name": "python3"
  },
  "language_info": {
   "codemirror_mode": {
    "name": "ipython",
    "version": 3
   },
   "file_extension": ".py",
   "mimetype": "text/x-python",
   "name": "python",
   "nbconvert_exporter": "python",
   "pygments_lexer": "ipython3",
   "version": "3.13.1"
  }
 },
 "nbformat": 4,
 "nbformat_minor": 2
}
